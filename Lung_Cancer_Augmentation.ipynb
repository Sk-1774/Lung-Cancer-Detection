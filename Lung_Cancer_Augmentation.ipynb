{
  "nbformat": 4,
  "nbformat_minor": 0,
  "metadata": {
    "colab": {
      "provenance": []
    },
    "kernelspec": {
      "name": "python3",
      "display_name": "Python 3"
    },
    "language_info": {
      "name": "python"
    }
  },
  "cells": [
    {
      "cell_type": "code",
      "execution_count": null,
      "metadata": {
        "colab": {
          "base_uri": "https://localhost:8080/"
        },
        "id": "Y_vyFgHG7rZ4",
        "outputId": "9d69979e-8b19-47fa-e62e-44a20b18a5fb"
      },
      "outputs": [
        {
          "output_type": "stream",
          "name": "stdout",
          "text": [
            "Mounted at /content/drive\n"
          ]
        }
      ],
      "source": [
        "#Uploading Google drive\n",
        "from google.colab import drive\n",
        "drive.mount('/content/drive')"
      ]
    },
    {
      "cell_type": "code",
      "source": [
        "import pandas as pd\n",
        "import numpy as np\n",
        "import matplotlib.pyplot as plt\n",
        "import cv2\n",
        "import tensorflow as tf\n",
        "import os\n",
        "from tqdm import tqdm\n",
        "from tensorflow import keras\n",
        "from keras.preprocessing.image import ImageDataGenerator\n",
        "from sklearn.utils import shuffle\n",
        "import matplotlib.image as image\n",
        "from matplotlib import pyplot\n",
        "from random import randint\n",
        "from PIL import Image"
      ],
      "metadata": {
        "id": "r7dsi7kR73DU"
      },
      "execution_count": null,
      "outputs": []
    },
    {
      "cell_type": "code",
      "source": [
        "BASE_DIR='/content/drive/MyDrive/In-Med/The IQ-OTHNCCD lung cancer dataset'\n",
        "B_PATH = '/content/drive/MyDrive/In-Med/The IQ-OTHNCCD lung cancer dataset/Bengin cases'\n",
        "M_PATH = '/content/drive/MyDrive/In-Med/The IQ-OTHNCCD lung cancer dataset/Malignant cases'\n",
        "N_PATH = '/content/drive/MyDrive/In-Med/The IQ-OTHNCCD lung cancer dataset/Normal cases'"
      ],
      "metadata": {
        "id": "SdtSFZYQ729Z"
      },
      "execution_count": null,
      "outputs": []
    },
    {
      "cell_type": "code",
      "source": [
        "datagen = ImageDataGenerator(shear_range = 0.2,\n",
        "                             zoom_range = 0.2,\n",
        "                             horizontal_flip = True,\n",
        "                             vertical_flip = True,\n",
        "                             rotation_range = 90)"
      ],
      "metadata": {
        "id": "joiZz7EQ72ex"
      },
      "execution_count": null,
      "outputs": []
    },
    {
      "cell_type": "code",
      "source": [
        "#Augmenting the class with low data\n",
        "image_directory = B_PATH\n",
        "SIZE = 224\n",
        "dataset = []\n",
        "cnt = 0\n",
        "my_images = os.listdir(image_directory)\n",
        "for i, image_name in enumerate(my_images):\n",
        "    if (image_name.split('.')[1] == 'jpg'):\n",
        "        image = cv2.imread(os.path.join(image_directory,image_name))\n",
        "        image = cv2.resize(image,(SIZE, SIZE))\n",
        "        dataset.append(np.array(image))\n",
        "x = np.array(dataset)\n",
        "i = 0\n",
        "for batch in datagen.flow(x, batch_size=16,\n",
        "                          save_to_dir= r'/content/drive/MyDrive/In-Med/Augmented',\n",
        "                          save_prefix='dr',\n",
        "                          save_format='jpg'):\n",
        "    i += 1\n",
        "    if i > 35:\n",
        "        break"
      ],
      "metadata": {
        "id": "BVEGa45f72b_"
      },
      "execution_count": null,
      "outputs": []
    },
    {
      "cell_type": "code",
      "source": [
        "AB_PATH = '/content/drive/MyDrive/In-Med/Augmented'"
      ],
      "metadata": {
        "id": "S5Pc5eAQ72ZP"
      },
      "execution_count": null,
      "outputs": []
    },
    {
      "cell_type": "code",
      "source": [
        "aug_class = {'b_1': len(os.listdir(B_PATH)),\n",
        "             'a_1': len(os.listdir(AB_PATH))\n",
        "             }\n",
        "#len(os.listdir(AB_PATH))=544"
      ],
      "metadata": {
        "id": "tWNf5wua72Wh"
      },
      "execution_count": null,
      "outputs": []
    },
    {
      "cell_type": "code",
      "source": [
        "#Number of images before and after augmentation in Bengin class\n",
        "plt.bar(aug_class.keys(), aug_class.values(), width = 0.75);\n",
        "plt.title(\"Number of Images\");\n",
        "plt.xlabel('TYPE');\n",
        "plt.ylabel('#Images');"
      ],
      "metadata": {
        "colab": {
          "base_uri": "https://localhost:8080/",
          "height": 296
        },
        "id": "qQDQSb2U72UC",
        "outputId": "b859d406-816c-4a0b-8194-68dc4110c4dd"
      },
      "execution_count": null,
      "outputs": [
        {
          "output_type": "display_data",
          "data": {
            "text/plain": [
              "<Figure size 432x288 with 1 Axes>"
            ],
            "image/png": "[encoded data removed]"
          },
          "metadata": {
            "needs_background": "light"
          }
        }
      ]
    },
    {
      "cell_type": "code",
      "source": [
        "num_class1 = {'b_1': len(os.listdir(AB_PATH)),\n",
        "             'm_2': len(os.listdir(M_PATH)),\n",
        "             'n_3': len(os.listdir(N_PATH))}"
      ],
      "metadata": {
        "id": "O4ZBeT-L83vW"
      },
      "execution_count": null,
      "outputs": []
    },
    {
      "cell_type": "code",
      "source": [
        "#Number of images in each class after augmentation\n",
        "plt.bar(num_class1.keys(), num_class1.values(), width = 0.75);\n",
        "plt.title(\"Number of Images by Class\");\n",
        "plt.xlabel('Class Name');\n",
        "plt.ylabel('Num of Images');"
      ],
      "metadata": {
        "colab": {
          "base_uri": "https://localhost:8080/",
          "height": 296
        },
        "id": "QYVNyxOP83sK",
        "outputId": "1b16ba4f-fcc6-4a73-ab90-9de79b5297e6"
      },
      "execution_count": null,
      "outputs": [
        {
          "output_type": "display_data",
          "data": {
            "text/plain": [
              "<Figure size 432x288 with 1 Axes>"
            ],
            "image/png": "[encoded data removed]"
          },
          "metadata": {
            "needs_background": "light"
          }
        }
      ]
    },
    {
      "cell_type": "code",
      "source": [],
      "metadata": {
        "id": "rGotXlQORDn7"
      },
      "execution_count": null,
      "outputs": []
    }
  ]
}